{
 "cells": [
  {
   "attachments": {},
   "cell_type": "markdown",
   "metadata": {},
   "source": [
    "# My DCT"
   ]
  },
  {
   "cell_type": "code",
   "execution_count": 1,
   "metadata": {},
   "outputs": [],
   "source": [
    "import pandas as pd\n",
    "import numpy as np\n",
    "import matplotlib.pyplot as plt\n",
    "import seaborn as sns\n",
    "import scipy.fftpack as fft\n",
    "from joblib import Parallel, delayed\n",
    "from time import time\n",
    "import os"
   ]
  },
  {
   "cell_type": "code",
   "execution_count": 2,
   "metadata": {},
   "outputs": [
    {
     "data": {
      "text/plain": [
       "array([ 401.9902051 ,    6.60001991,  109.16736544, -112.78557857,\n",
       "         65.40737726,  121.83139804,  116.65648855,   28.80040722])"
      ]
     },
     "execution_count": 2,
     "metadata": {},
     "output_type": "execute_result"
    }
   ],
   "source": [
    "test = [231, 32, 233, 161, 24, 71, 140, 245]\n",
    "dct_test = fft.dct(test, norm='ortho')\n",
    "dct_test"
   ]
  },
  {
   "cell_type": "code",
   "execution_count": 3,
   "metadata": {},
   "outputs": [],
   "source": [
    "mat = [[231, 32, 233, 161, 24, 71, 140, 245], \n",
    "         [247, 40, 248, 245, 124, 204, 36, 107], \n",
    "         [234, 202, 245, 167, 9, 217, 239, 173], \n",
    "         [193, 190, 100, 167, 43, 180, 8, 70], \n",
    "         [11, 24, 210, 177, 81, 243, 8, 112], \n",
    "         [97, 195, 203, 47, 125, 114, 165, 181], \n",
    "         [193, 70, 174, 167, 41, 30, 127, 245], \n",
    "         [87, 149, 57, 192, 65, 129, 178, 228]]"
   ]
  },
  {
   "cell_type": "code",
   "execution_count": 4,
   "metadata": {},
   "outputs": [
    {
     "name": "stdout",
     "output_type": "stream",
     "text": [
      "[[ 1.11875000e+03  4.40221926e+01  7.59190503e+01 -1.38572411e+02\n",
      "   3.50000000e+00  1.22078055e+02  1.95043868e+02 -1.01604906e+02]\n",
      " [ 7.71900790e+01  1.14868206e+02 -2.18014421e+01  4.13641351e+01\n",
      "   8.77720598e+00  9.90829620e+01  1.38171516e+02  1.09092795e+01]\n",
      " [ 4.48351537e+01 -6.27524464e+01  1.11614114e+02 -7.63789658e+01\n",
      "   1.24422160e+02  9.55984194e+01 -3.98287969e+01  5.85237670e+01]\n",
      " [-6.99836647e+01 -4.02408945e+01 -2.34970508e+01 -7.67320594e+01\n",
      "   2.66457750e+01 -3.68328290e+01  6.61891485e+01  1.25429731e+02]\n",
      " [-1.09000000e+02 -4.33430857e+01 -5.55436908e+01  8.17347083e+00\n",
      "   3.02500000e+01 -2.86602437e+01  2.44149822e+00 -9.41437025e+01]\n",
      " [-5.38783591e+00  5.66345009e+01  1.73021519e+02 -3.54234494e+01\n",
      "   3.23878249e+01  3.34576728e+01 -5.81167864e+01  1.90225615e+01]\n",
      " [ 7.88439693e+01 -6.45924096e+01  1.18671203e+02 -1.50904840e+01\n",
      "  -1.37316928e+02 -3.06196663e+01 -1.05114114e+02  3.98130497e+01]\n",
      " [ 1.97882438e+01 -7.81813409e+01  9.72311860e-01 -7.23464180e+01\n",
      "  -2.15781633e+01  8.12999035e+01  6.37103782e+01  5.90618071e+00]]\n"
     ]
    }
   ],
   "source": [
    "def dct2(A):\n",
    "    return fft.dct(fft.dct(A, axis=0, norm='ortho'), axis=1, norm='ortho')\n",
    "\n",
    "print(dct2(mat))"
   ]
  },
  {
   "attachments": {},
   "cell_type": "markdown",
   "metadata": {},
   "source": [
    "matrices = []\n",
    "for N in range(1, 50, 1):\n",
    "    matrices.append(np.random.randint(0, 300, size=(N, N)))"
   ]
  },
  {
   "cell_type": "code",
   "execution_count": 16,
   "metadata": {},
   "outputs": [
    {
     "name": "stdout",
     "output_type": "stream",
     "text": [
      "[array([[154, 262],\n",
      "       [288,  36]]), array([[  7, 226, 168, 114],\n",
      "       [ 34, 251, 241,  39],\n",
      "       [207, 294, 268, 101],\n",
      "       [ 89,  60, 284, 199]]), array([[ 82,  87, 206, 206,  36, 137, 297, 152],\n",
      "       [170, 195, 279,   6, 152,  71, 252,  72],\n",
      "       [ 19,  38,  51,  68,  83, 131, 220,  71],\n",
      "       [168,  27,  50, 253, 133, 289, 274, 153],\n",
      "       [248,  81, 130, 233, 196, 100, 193, 213],\n",
      "       [134, 179, 211,  60, 258, 223,  41, 191],\n",
      "       [ 32,  92,  18, 156,   0,  65,  42,  77],\n",
      "       [ 40, 155,  32, 244,  34, 246, 285, 253]]), array([[277, 241, 203, 298, 126,  80, 220, 215, 251, 153,  66, 158, 193,\n",
      "         77, 170, 200],\n",
      "       [234, 299,  53,  54,  21, 245,  62, 106, 240,  20, 294, 159,  38,\n",
      "        283,  91, 164],\n",
      "       [132, 167, 126, 135, 258,  43, 234,  18, 276,  99,  66,   5, 249,\n",
      "         39,  39, 159],\n",
      "       [  5, 224, 144,  69, 224,  90, 180,  98,   7, 283, 118,   4, 269,\n",
      "         15, 208, 296],\n",
      "       [188,   7, 156,  94,  97, 239, 260, 230,  61, 288,  12, 289, 174,\n",
      "        284, 189, 118],\n",
      "       [239, 120, 189, 206, 248, 274,  29,  94, 126, 294,  25,  36,  97,\n",
      "        135,  35, 280],\n",
      "       [ 16, 205, 263,  55, 120,  39, 299, 181,  49, 167,  60, 176,  76,\n",
      "        172, 190,  96],\n",
      "       [ 40, 143, 288,   6, 122, 194, 284, 215, 167, 243,  52, 166, 222,\n",
      "        246,   4, 188],\n",
      "       [194,  42,  59, 183, 187,  46, 218, 239,  22, 178, 122, 156, 269,\n",
      "        105,  97, 289],\n",
      "       [ 54, 118, 189, 131, 295, 159,  88, 191, 132, 213,  22, 113, 108,\n",
      "        193,  56, 161],\n",
      "       [134,  61, 104, 168, 211,  14, 108, 297, 263, 103, 197,  82, 173,\n",
      "        140,  17, 222],\n",
      "       [ 76,  76,   3, 252, 152, 114,  94, 124,  63, 229, 126, 214, 282,\n",
      "         53, 283, 284],\n",
      "       [104, 251, 251, 184,  64,  16, 259, 148, 192, 234,  59, 173, 119,\n",
      "         72, 200, 118],\n",
      "       [ 32, 265, 195,  70, 122, 247, 161,  87, 118, 161, 156,   8,  99,\n",
      "        183, 252, 224],\n",
      "       [227, 192, 205, 112, 270, 290, 296,  93,  61, 206,  76, 219,  41,\n",
      "        180, 162, 177],\n",
      "       [249, 146, 250,  55, 146, 218,  98, 262,  33, 253,  67, 198, 203,\n",
      "        255,  23, 111]]), array([[139, 168,   4, ...,  41, 184, 290],\n",
      "       [293,  50,  73, ..., 281, 104, 201],\n",
      "       [ 17, 159,  82, ..., 249, 107, 205],\n",
      "       ...,\n",
      "       [ 73, 200, 232, ..., 245, 266, 128],\n",
      "       [236, 135, 243, ..., 217, 263, 121],\n",
      "       [115, 299, 205, ..., 193, 247,   5]]), array([[199, 112,  44, ..., 132,  46, 250],\n",
      "       [291, 137, 170, ..., 280, 156, 237],\n",
      "       [285, 287,  22, ...,  93, 165, 191],\n",
      "       ...,\n",
      "       [ 11,  42, 165, ...,  25, 159, 247],\n",
      "       [292, 164,   1, ..., 109, 136,  96],\n",
      "       [ 50, 165, 257, ...,   5, 116, 166]]), array([[124,  61,  36, ..., 158, 113,  85],\n",
      "       [209,  69,  10, ...,  29, 205, 237],\n",
      "       [274, 106,  73, ...,  13, 124, 103],\n",
      "       ...,\n",
      "       [ 21, 219, 186, ..., 278, 111, 257],\n",
      "       [215,  98, 295, ..., 249,  83, 253],\n",
      "       [253,  47, 262, ...,  20, 276,  41]]), array([[ 97,  90, 236, ..., 248,  43, 195],\n",
      "       [291,  77, 193, ..., 143, 106, 279],\n",
      "       [ 45,  73,   3, ..., 204, 138, 149],\n",
      "       ...,\n",
      "       [115, 204, 263, ..., 280,  99,  39],\n",
      "       [267, 160,  73, ..., 146, 223, 229],\n",
      "       [247, 161, 206, ..., 189, 172, 192]]), array([[114, 280,  68, ..., 226,   4,  55],\n",
      "       [248, 215,  79, ..., 101, 178, 127],\n",
      "       [ 41,   9, 153, ...,  83, 201, 245],\n",
      "       ...,\n",
      "       [135, 245, 270, ..., 177,  97, 291],\n",
      "       [ 95,  25, 103, ...,  51,  58,  72],\n",
      "       [296, 289,  10, ...,  94, 167,  39]]), array([[ 33, 268,  56, ..., 149, 179, 114],\n",
      "       [ 39,  49, 118, ..., 291,  38, 135],\n",
      "       [ 86, 168, 115, ...,  42, 240, 253],\n",
      "       ...,\n",
      "       [119,  65, 181, ...,  69,  63, 188],\n",
      "       [ 58, 288,  27, ...,  75, 291,  57],\n",
      "       [253, 294,  84, ..., 289,  28, 129]])]\n"
     ]
    }
   ],
   "source": [
    "def new_matrix(N):\n",
    "    return np.random.randint(0, 255, size=(N, N))\n",
    "matrices = Parallel(n_jobs=5)(delayed(new_matrix)(N) for N in (2**p for p in range(1, 11)))"
   ]
  },
  {
   "cell_type": "code",
   "execution_count": 6,
   "metadata": {},
   "outputs": [
    {
     "name": "stdout",
     "output_type": "stream",
     "text": [
      "[[ 1.11875000e+03  4.40221926e+01  7.59190503e+01 -1.38572411e+02\n",
      "   3.50000000e+00  1.22078055e+02  1.95043868e+02 -1.01604906e+02]\n",
      " [ 7.71900790e+01  1.14868206e+02 -2.18014421e+01  4.13641351e+01\n",
      "   8.77720598e+00  9.90829620e+01  1.38171516e+02  1.09092795e+01]\n",
      " [ 4.48351537e+01 -6.27524464e+01  1.11614114e+02 -7.63789658e+01\n",
      "   1.24422160e+02  9.55984194e+01 -3.98287969e+01  5.85237670e+01]\n",
      " [-6.99836647e+01 -4.02408945e+01 -2.34970508e+01 -7.67320594e+01\n",
      "   2.66457750e+01 -3.68328290e+01  6.61891485e+01  1.25429731e+02]\n",
      " [-1.09000000e+02 -4.33430857e+01 -5.55436908e+01  8.17347083e+00\n",
      "   3.02500000e+01 -2.86602437e+01  2.44149822e+00 -9.41437025e+01]\n",
      " [-5.38783591e+00  5.66345009e+01  1.73021519e+02 -3.54234494e+01\n",
      "   3.23878249e+01  3.34576728e+01 -5.81167864e+01  1.90225615e+01]\n",
      " [ 7.88439693e+01 -6.45924096e+01  1.18671203e+02 -1.50904840e+01\n",
      "  -1.37316928e+02 -3.06196663e+01 -1.05114114e+02  3.98130497e+01]\n",
      " [ 1.97882438e+01 -7.81813409e+01  9.72311860e-01 -7.23464180e+01\n",
      "  -2.15781633e+01  8.12999035e+01  6.37103782e+01  5.90618071e+00]]\n"
     ]
    }
   ],
   "source": [
    "def my_dct(v):\n",
    "    N = len(v)\n",
    "    a = [0] * N\n",
    "    for k in range(0, N):\n",
    "        for i in range(0, N):\n",
    "            a[k] += np.cos(np.pi * k * ((2 * i + 1) / (2 * N))) * v[i]\n",
    "        den = N / 2\n",
    "        if(k == 0): den = N\n",
    "        a[k] = (a[k] / np.sqrt(den))\n",
    "    return a\n",
    "\n",
    "def my_dct2(A):\n",
    "    N = len(A)\n",
    "    mr = np.zeros((N, N))\n",
    "    mc = np.zeros((N, N))\n",
    "    for i in range(0, N):\n",
    "        mr[i] = my_dct(A[i])\n",
    "    for j in range(0, N):\n",
    "        mc[:, j] = my_dct(mr[:, j])\n",
    "    return mc\n",
    "    \n",
    "print(my_dct2(mat))"
   ]
  },
  {
   "attachments": {},
   "cell_type": "markdown",
   "metadata": {},
   "source": [
    "times = list()\n",
    "for m in matrices:\n",
    "    start = time()\n",
    "    dct2(m)\n",
    "    end = time()\n",
    "    time_dct2 = end - start\n",
    "    start = time()\n",
    "    my_dct2(m)\n",
    "    end = time()\n",
    "    time_my_dct2 = end - start\n",
    "    times.append([len(m), time_dct2, time_my_dct2])"
   ]
  },
  {
   "cell_type": "code",
   "execution_count": 19,
   "metadata": {},
   "outputs": [],
   "source": [
    "def process(mat):\n",
    "    print(\"... Computing DCT2 - Matrix size: \", len(mat))\n",
    "    start = time()\n",
    "    dct2(mat)\n",
    "    end = time()\n",
    "    time_dct2 = end - start\n",
    "    start = time()\n",
    "    my_dct2(mat)\n",
    "    end = time()\n",
    "    time_my_dct2 = end - start\n",
    "    print(\"DONE Computed DCT2 - Matrix size: \", len(mat))\n",
    "    return [len(mat), time_dct2, time_my_dct2]"
   ]
  },
  {
   "cell_type": "code",
   "execution_count": 17,
   "metadata": {},
   "outputs": [],
   "source": [
    "times = Parallel(n_jobs=7)(delayed(process)(m) for m in matrices)"
   ]
  },
  {
   "cell_type": "code",
   "execution_count": 23,
   "metadata": {},
   "outputs": [
    {
     "data": {
      "image/png": "[encoded data removed]",
      "text/plain": [
       "<Figure size 2160x720 with 2 Axes>"
      ]
     },
     "metadata": {},
     "output_type": "display_data"
    }
   ],
   "source": [
    "sns.set_theme(style=\"darkgrid\")\n",
    "df = pd.DataFrame(times, columns=['N', 'DCT2 Time', 'My DCT2 Time'])\n",
    "fig, ax = plt.subplots(1, 2, figsize=(30, 10), sharey=True)\n",
    "ax1 = sns.lineplot(data=df, x=\"N\", y=\"DCT2 Time\", ax=ax[0])\n",
    "ax2 = sns.lineplot(data=df, x=\"N\", y=\"My DCT2 Time\", ax=ax[1])\n",
    "ax1.set_yscale('log')\n",
    "ax2.set_yscale('log')\n"
   ]
  },
  {
   "cell_type": "code",
   "execution_count": null,
   "metadata": {},
   "outputs": [],
   "source": [
    "df.to_csv('times.csv', index=False)"
   ]
  }
 ],
 "metadata": {
  "kernelspec": {
   "display_name": "Python 3",
   "language": "python",
   "name": "python3"
  },
  "language_info": {
   "codemirror_mode": {
    "name": "ipython",
    "version": 3
   },
   "file_extension": ".py",
   "mimetype": "text/x-python",
   "name": "python",
   "nbconvert_exporter": "python",
   "pygments_lexer": "ipython3",
   "version": "3.10.7"
  },
  "orig_nbformat": 4
 },
 "nbformat": 4,
 "nbformat_minor": 2
}
