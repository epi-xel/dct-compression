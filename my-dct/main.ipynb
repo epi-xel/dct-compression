{
 "cells": [
  {
   "attachments": {},
   "cell_type": "markdown",
   "metadata": {},
   "source": [
    "# My DCT"
   ]
  },
  {
   "cell_type": "code",
   "execution_count": 2,
   "metadata": {},
   "outputs": [],
   "source": [
    "import pandas as pd\n",
    "import numpy as np\n",
    "import matplotlib.pyplot as plt\n",
    "import seaborn as sns\n",
    "import scipy.fftpack as fft\n",
    "from joblib import Parallel, delayed\n",
    "from time import time\n",
    "import os"
   ]
  },
  {
   "cell_type": "code",
   "execution_count": 4,
   "metadata": {},
   "outputs": [
    {
     "data": {
      "text/plain": [
       "array([ 401.9902051 ,    6.60001991,  109.16736544, -112.78557857,\n",
       "         65.40737726,  121.83139804,  116.65648855,   28.80040722])"
      ]
     },
     "execution_count": 4,
     "metadata": {},
     "output_type": "execute_result"
    }
   ],
   "source": [
    "test = [231, 32, 233, 161, 24, 71, 140, 245]\n",
    "dct_test = fft.dct(test, norm='ortho')\n",
    "dct_test"
   ]
  },
  {
   "cell_type": "code",
   "execution_count": 5,
   "metadata": {},
   "outputs": [],
   "source": [
    "mat = [[231, 32, 233, 161, 24, 71, 140, 245], \n",
    "         [247, 40, 248, 245, 124, 204, 36, 107], \n",
    "         [234, 202, 245, 167, 9, 217, 239, 173], \n",
    "         [193, 190, 100, 167, 43, 180, 8, 70], \n",
    "         [11, 24, 210, 177, 81, 243, 8, 112], \n",
    "         [97, 195, 203, 47, 125, 114, 165, 181], \n",
    "         [193, 70, 174, 167, 41, 30, 127, 245], \n",
    "         [87, 149, 57, 192, 65, 129, 178, 228]]"
   ]
  },
  {
   "cell_type": "code",
   "execution_count": 6,
   "metadata": {},
   "outputs": [
    {
     "name": "stdout",
     "output_type": "stream",
     "text": [
      "[[ 1.11875000e+03  4.40221926e+01  7.59190503e+01 -1.38572411e+02\n",
      "   3.50000000e+00  1.22078055e+02  1.95043868e+02 -1.01604906e+02]\n",
      " [ 7.71900790e+01  1.14868206e+02 -2.18014421e+01  4.13641351e+01\n",
      "   8.77720598e+00  9.90829620e+01  1.38171516e+02  1.09092795e+01]\n",
      " [ 4.48351537e+01 -6.27524464e+01  1.11614114e+02 -7.63789658e+01\n",
      "   1.24422160e+02  9.55984194e+01 -3.98287969e+01  5.85237670e+01]\n",
      " [-6.99836647e+01 -4.02408945e+01 -2.34970508e+01 -7.67320594e+01\n",
      "   2.66457750e+01 -3.68328290e+01  6.61891485e+01  1.25429731e+02]\n",
      " [-1.09000000e+02 -4.33430857e+01 -5.55436908e+01  8.17347083e+00\n",
      "   3.02500000e+01 -2.86602437e+01  2.44149822e+00 -9.41437025e+01]\n",
      " [-5.38783591e+00  5.66345009e+01  1.73021519e+02 -3.54234494e+01\n",
      "   3.23878249e+01  3.34576728e+01 -5.81167864e+01  1.90225615e+01]\n",
      " [ 7.88439693e+01 -6.45924096e+01  1.18671203e+02 -1.50904840e+01\n",
      "  -1.37316928e+02 -3.06196663e+01 -1.05114114e+02  3.98130497e+01]\n",
      " [ 1.97882438e+01 -7.81813409e+01  9.72311860e-01 -7.23464180e+01\n",
      "  -2.15781633e+01  8.12999035e+01  6.37103782e+01  5.90618071e+00]]\n"
     ]
    }
   ],
   "source": [
    "def dct2(A):\n",
    "    return fft.dct(fft.dct(A, axis=0, norm='ortho'), axis=1, norm='ortho')\n",
    "\n",
    "print(dct2(mat))"
   ]
  },
  {
   "attachments": {},
   "cell_type": "markdown",
   "metadata": {},
   "source": [
    "matrices = []\n",
    "for N in range(1, 50, 1):\n",
    "    matrices.append(np.random.randint(0, 300, size=(N, N)))"
   ]
  },
  {
   "cell_type": "code",
   "execution_count": 7,
   "metadata": {},
   "outputs": [],
   "source": [
    "def new_matrix(N):\n",
    "    return np.random.randint(0, 255, size=(N, N))\n",
    "matrices = Parallel(n_jobs=5)(delayed(new_matrix)(N) for N in (2**p for p in range(1, 11)))"
   ]
  },
  {
   "cell_type": "code",
   "execution_count": 8,
   "metadata": {},
   "outputs": [
    {
     "name": "stdout",
     "output_type": "stream",
     "text": [
      "[[ 1.11875000e+03  4.40221926e+01  7.59190503e+01 -1.38572411e+02\n",
      "   3.50000000e+00  1.22078055e+02  1.95043868e+02 -1.01604906e+02]\n",
      " [ 7.71900790e+01  1.14868206e+02 -2.18014421e+01  4.13641351e+01\n",
      "   8.77720598e+00  9.90829620e+01  1.38171516e+02  1.09092795e+01]\n",
      " [ 4.48351537e+01 -6.27524464e+01  1.11614114e+02 -7.63789658e+01\n",
      "   1.24422160e+02  9.55984194e+01 -3.98287969e+01  5.85237670e+01]\n",
      " [-6.99836647e+01 -4.02408945e+01 -2.34970508e+01 -7.67320594e+01\n",
      "   2.66457750e+01 -3.68328290e+01  6.61891485e+01  1.25429731e+02]\n",
      " [-1.09000000e+02 -4.33430857e+01 -5.55436908e+01  8.17347083e+00\n",
      "   3.02500000e+01 -2.86602437e+01  2.44149822e+00 -9.41437025e+01]\n",
      " [-5.38783591e+00  5.66345009e+01  1.73021519e+02 -3.54234494e+01\n",
      "   3.23878249e+01  3.34576728e+01 -5.81167864e+01  1.90225615e+01]\n",
      " [ 7.88439693e+01 -6.45924096e+01  1.18671203e+02 -1.50904840e+01\n",
      "  -1.37316928e+02 -3.06196663e+01 -1.05114114e+02  3.98130497e+01]\n",
      " [ 1.97882438e+01 -7.81813409e+01  9.72311860e-01 -7.23464180e+01\n",
      "  -2.15781633e+01  8.12999035e+01  6.37103782e+01  5.90618071e+00]]\n"
     ]
    }
   ],
   "source": [
    "def my_dct(v):\n",
    "    N = len(v)\n",
    "    a = [0] * N\n",
    "    for k in range(0, N):\n",
    "        for i in range(0, N):\n",
    "            a[k] += np.cos(np.pi * k * ((2 * i + 1) / (2 * N))) * v[i]\n",
    "        den = N / 2\n",
    "        if(k == 0): den = N\n",
    "        a[k] = (a[k] / np.sqrt(den))\n",
    "    return a\n",
    "\n",
    "def my_dct2(A):\n",
    "    N = len(A)\n",
    "    mr = np.zeros((N, N))\n",
    "    mc = np.zeros((N, N))\n",
    "    for i in range(0, N):\n",
    "        mr[i] = my_dct(A[i])\n",
    "    for j in range(0, N):\n",
    "        mc[:, j] = my_dct(mr[:, j])\n",
    "    return mc\n",
    "    \n",
    "print(my_dct2(mat))"
   ]
  },
  {
   "cell_type": "code",
   "execution_count": 16,
   "metadata": {},
   "outputs": [
    {
     "data": {
      "text/plain": [
       "array([[ 3.24331250e+04,  6.46687303e+01, -6.98970046e+01, ...,\n",
       "        -7.43382828e+01, -9.64098491e+01,  4.91783599e+01],\n",
       "       [ 1.36983860e+02,  1.39844124e+01,  3.38226495e+01, ...,\n",
       "        -3.37163504e+01, -1.36285663e+02, -5.93970609e+00],\n",
       "       [-1.41963719e+02, -8.57701298e+00,  2.52642326e+01, ...,\n",
       "         7.98721220e+01,  3.71904343e+01, -3.31980219e+01],\n",
       "       ...,\n",
       "       [ 1.01105905e+00, -3.03817117e+01, -1.04828702e+02, ...,\n",
       "        -1.02496584e+02, -4.92684403e+01,  1.72747374e+01],\n",
       "       [-4.26150803e+01, -7.42796733e+01, -5.14777569e+00, ...,\n",
       "        -6.89778741e+01,  3.15466178e+01, -3.01287784e+01],\n",
       "       [ 1.32512788e+02,  2.36129515e+02,  5.24463208e+01, ...,\n",
       "         1.01702213e+02, -9.04100332e+01, -8.84627873e+01]])"
      ]
     },
     "execution_count": 16,
     "metadata": {},
     "output_type": "execute_result"
    }
   ],
   "source": [
    "def dct(vector):\n",
    "    N = len(vector)\n",
    "    cosine_vector = np.zeros(N)\n",
    "\n",
    "    for k in range(N):\n",
    "        for n in range(N):\n",
    "            cosine_vector[k] += vector[n] * np.cos((np.pi * k * (2 * n + 1)) / (2 * N))\n",
    "        \n",
    "        if k == 0:\n",
    "            scaling_factor = np.sqrt(1/N)\n",
    "        else:\n",
    "            scaling_factor = np.sqrt(2/N)\n",
    "        \n",
    "        cosine_vector[k] *= scaling_factor\n",
    "            \n",
    "    return cosine_vector\n",
    "\n",
    "\n",
    "x = np.random.random((256, 256)) * 255\n",
    "x = x.astype(np.uint8)\n",
    "\n",
    "\n",
    "def dct2(matrix):\n",
    "    N = matrix.shape[0]\n",
    "    dct_matrix = np.zeros((N, N))\n",
    "    \n",
    "    for i in range(N):\n",
    "        dct_matrix[i] = dct(matrix[i])\n",
    "    \n",
    "    for j in range(N):\n",
    "        dct_matrix[:, j] = dct(dct_matrix[:, j])\n",
    "    \n",
    "    return dct_matrix\n",
    "\n",
    "dct2(x)\n"
   ]
  },
  {
   "attachments": {},
   "cell_type": "markdown",
   "metadata": {},
   "source": [
    "times = list()\n",
    "for m in matrices:\n",
    "    start = time()\n",
    "    dct2(m)\n",
    "    end = time()\n",
    "    time_dct2 = end - start\n",
    "    start = time()\n",
    "    my_dct2(m)\n",
    "    end = time()\n",
    "    time_my_dct2 = end - start\n",
    "    times.append([len(m), time_dct2, time_my_dct2])"
   ]
  },
  {
   "cell_type": "code",
   "execution_count": 9,
   "metadata": {},
   "outputs": [],
   "source": [
    "def process(mat):\n",
    "    print(\"... Computing DCT2 - Matrix size: \", len(mat))\n",
    "    start = time()\n",
    "    dct2(mat)\n",
    "    end = time()\n",
    "    time_dct2 = end - start\n",
    "    start = time()\n",
    "    my_dct2(mat)\n",
    "    end = time()\n",
    "    time_my_dct2 = end - start\n",
    "    print(\"DONE Computed DCT2 - Matrix size: \", len(mat))\n",
    "    return [len(mat), time_dct2, time_my_dct2]"
   ]
  },
  {
   "cell_type": "code",
   "execution_count": 10,
   "metadata": {},
   "outputs": [
    {
     "name": "stdout",
     "output_type": "stream",
     "text": [
      "... Computing DCT2 - Matrix size:  2\n",
      "DONE Computed DCT2 - Matrix size:  2\n",
      "... Computing DCT2 - Matrix size:  128\n",
      "... Computing DCT2 - Matrix size:  4\n",
      "DONE Computed DCT2 - Matrix size:  4\n",
      "... Computing DCT2 - Matrix size:  8\n",
      "... Computing DCT2 - Matrix size:  16\n",
      "DONE Computed DCT2 - Matrix size:  8\n",
      "... Computing DCT2 - Matrix size:  512\n",
      "... Computing DCT2 - Matrix size:  32\n",
      "DONE Computed DCT2 - Matrix size:  16\n",
      "... Computing DCT2 - Matrix size:  1024\n",
      "... Computing DCT2 - Matrix size:  64\n",
      "... Computing DCT2 - Matrix size:  256\n",
      "DONE Computed DCT2 - Matrix size:  32\n",
      "DONE Computed DCT2 - Matrix size:  64\n",
      "DONE Computed DCT2 - Matrix size:  128\n",
      "DONE Computed DCT2 - Matrix size:  256\n",
      "DONE Computed DCT2 - Matrix size:  512\n"
     ]
    },
    {
     "ename": "KeyboardInterrupt",
     "evalue": "",
     "output_type": "error",
     "traceback": [
      "\u001b[0;31m---------------------------------------------------------------------------\u001b[0m",
      "\u001b[0;31mKeyboardInterrupt\u001b[0m                         Traceback (most recent call last)",
      "\u001b[0;32m/tmp/ipykernel_5466/3596591304.py\u001b[0m in \u001b[0;36m<module>\u001b[0;34m\u001b[0m\n\u001b[0;32m----> 1\u001b[0;31m \u001b[0mtimes\u001b[0m \u001b[0;34m=\u001b[0m \u001b[0mParallel\u001b[0m\u001b[0;34m(\u001b[0m\u001b[0mn_jobs\u001b[0m\u001b[0;34m=\u001b[0m\u001b[0;36m7\u001b[0m\u001b[0;34m)\u001b[0m\u001b[0;34m(\u001b[0m\u001b[0mdelayed\u001b[0m\u001b[0;34m(\u001b[0m\u001b[0mprocess\u001b[0m\u001b[0;34m)\u001b[0m\u001b[0;34m(\u001b[0m\u001b[0mm\u001b[0m\u001b[0;34m)\u001b[0m \u001b[0;32mfor\u001b[0m \u001b[0mm\u001b[0m \u001b[0;32min\u001b[0m \u001b[0mmatrices\u001b[0m\u001b[0;34m)\u001b[0m\u001b[0;34m\u001b[0m\u001b[0;34m\u001b[0m\u001b[0m\n\u001b[0m",
      "\u001b[0;32m~/.local/lib/python3.10/site-packages/joblib/parallel.py\u001b[0m in \u001b[0;36m__call__\u001b[0;34m(self, iterable)\u001b[0m\n\u001b[1;32m   1096\u001b[0m \u001b[0;34m\u001b[0m\u001b[0m\n\u001b[1;32m   1097\u001b[0m             \u001b[0;32mwith\u001b[0m \u001b[0mself\u001b[0m\u001b[0;34m.\u001b[0m\u001b[0m_backend\u001b[0m\u001b[0;34m.\u001b[0m\u001b[0mretrieval_context\u001b[0m\u001b[0;34m(\u001b[0m\u001b[0;34m)\u001b[0m\u001b[0;34m:\u001b[0m\u001b[0;34m\u001b[0m\u001b[0;34m\u001b[0m\u001b[0m\n\u001b[0;32m-> 1098\u001b[0;31m                 \u001b[0mself\u001b[0m\u001b[0;34m.\u001b[0m\u001b[0mretrieve\u001b[0m\u001b[0;34m(\u001b[0m\u001b[0;34m)\u001b[0m\u001b[0;34m\u001b[0m\u001b[0;34m\u001b[0m\u001b[0m\n\u001b[0m\u001b[1;32m   1099\u001b[0m             \u001b[0;31m# Make sure that we get a last message telling us we are done\u001b[0m\u001b[0;34m\u001b[0m\u001b[0;34m\u001b[0m\u001b[0m\n\u001b[1;32m   1100\u001b[0m             \u001b[0melapsed_time\u001b[0m \u001b[0;34m=\u001b[0m \u001b[0mtime\u001b[0m\u001b[0;34m.\u001b[0m\u001b[0mtime\u001b[0m\u001b[0;34m(\u001b[0m\u001b[0;34m)\u001b[0m \u001b[0;34m-\u001b[0m \u001b[0mself\u001b[0m\u001b[0;34m.\u001b[0m\u001b[0m_start_time\u001b[0m\u001b[0;34m\u001b[0m\u001b[0;34m\u001b[0m\u001b[0m\n",
      "\u001b[0;32m~/.local/lib/python3.10/site-packages/joblib/parallel.py\u001b[0m in \u001b[0;36mretrieve\u001b[0;34m(self)\u001b[0m\n\u001b[1;32m    973\u001b[0m             \u001b[0;32mtry\u001b[0m\u001b[0;34m:\u001b[0m\u001b[0;34m\u001b[0m\u001b[0;34m\u001b[0m\u001b[0m\n\u001b[1;32m    974\u001b[0m                 \u001b[0;32mif\u001b[0m \u001b[0mgetattr\u001b[0m\u001b[0;34m(\u001b[0m\u001b[0mself\u001b[0m\u001b[0;34m.\u001b[0m\u001b[0m_backend\u001b[0m\u001b[0;34m,\u001b[0m \u001b[0;34m'supports_timeout'\u001b[0m\u001b[0;34m,\u001b[0m \u001b[0;32mFalse\u001b[0m\u001b[0;34m)\u001b[0m\u001b[0;34m:\u001b[0m\u001b[0;34m\u001b[0m\u001b[0;34m\u001b[0m\u001b[0m\n\u001b[0;32m--> 975\u001b[0;31m                     \u001b[0mself\u001b[0m\u001b[0;34m.\u001b[0m\u001b[0m_output\u001b[0m\u001b[0;34m.\u001b[0m\u001b[0mextend\u001b[0m\u001b[0;34m(\u001b[0m\u001b[0mjob\u001b[0m\u001b[0;34m.\u001b[0m\u001b[0mget\u001b[0m\u001b[0;34m(\u001b[0m\u001b[0mtimeout\u001b[0m\u001b[0;34m=\u001b[0m\u001b[0mself\u001b[0m\u001b[0;34m.\u001b[0m\u001b[0mtimeout\u001b[0m\u001b[0;34m)\u001b[0m\u001b[0;34m)\u001b[0m\u001b[0;34m\u001b[0m\u001b[0;34m\u001b[0m\u001b[0m\n\u001b[0m\u001b[1;32m    976\u001b[0m                 \u001b[0;32melse\u001b[0m\u001b[0;34m:\u001b[0m\u001b[0;34m\u001b[0m\u001b[0;34m\u001b[0m\u001b[0m\n\u001b[1;32m    977\u001b[0m                     \u001b[0mself\u001b[0m\u001b[0;34m.\u001b[0m\u001b[0m_output\u001b[0m\u001b[0;34m.\u001b[0m\u001b[0mextend\u001b[0m\u001b[0;34m(\u001b[0m\u001b[0mjob\u001b[0m\u001b[0;34m.\u001b[0m\u001b[0mget\u001b[0m\u001b[0;34m(\u001b[0m\u001b[0;34m)\u001b[0m\u001b[0;34m)\u001b[0m\u001b[0;34m\u001b[0m\u001b[0;34m\u001b[0m\u001b[0m\n",
      "\u001b[0;32m~/.local/lib/python3.10/site-packages/joblib/_parallel_backends.py\u001b[0m in \u001b[0;36mwrap_future_result\u001b[0;34m(future, timeout)\u001b[0m\n\u001b[1;32m    565\u001b[0m         AsyncResults.get from multiprocessing.\"\"\"\n\u001b[1;32m    566\u001b[0m         \u001b[0;32mtry\u001b[0m\u001b[0;34m:\u001b[0m\u001b[0;34m\u001b[0m\u001b[0;34m\u001b[0m\u001b[0m\n\u001b[0;32m--> 567\u001b[0;31m             \u001b[0;32mreturn\u001b[0m \u001b[0mfuture\u001b[0m\u001b[0;34m.\u001b[0m\u001b[0mresult\u001b[0m\u001b[0;34m(\u001b[0m\u001b[0mtimeout\u001b[0m\u001b[0;34m=\u001b[0m\u001b[0mtimeout\u001b[0m\u001b[0;34m)\u001b[0m\u001b[0;34m\u001b[0m\u001b[0;34m\u001b[0m\u001b[0m\n\u001b[0m\u001b[1;32m    568\u001b[0m         \u001b[0;32mexcept\u001b[0m \u001b[0mCfTimeoutError\u001b[0m \u001b[0;32mas\u001b[0m \u001b[0me\u001b[0m\u001b[0;34m:\u001b[0m\u001b[0;34m\u001b[0m\u001b[0;34m\u001b[0m\u001b[0m\n\u001b[1;32m    569\u001b[0m             \u001b[0;32mraise\u001b[0m \u001b[0mTimeoutError\u001b[0m \u001b[0;32mfrom\u001b[0m \u001b[0me\u001b[0m\u001b[0;34m\u001b[0m\u001b[0;34m\u001b[0m\u001b[0m\n",
      "\u001b[0;32m/usr/lib/python3.10/concurrent/futures/_base.py\u001b[0m in \u001b[0;36mresult\u001b[0;34m(self, timeout)\u001b[0m\n\u001b[1;32m    451\u001b[0m                     \u001b[0;32mreturn\u001b[0m \u001b[0mself\u001b[0m\u001b[0;34m.\u001b[0m\u001b[0m__get_result\u001b[0m\u001b[0;34m(\u001b[0m\u001b[0;34m)\u001b[0m\u001b[0;34m\u001b[0m\u001b[0;34m\u001b[0m\u001b[0m\n\u001b[1;32m    452\u001b[0m \u001b[0;34m\u001b[0m\u001b[0m\n\u001b[0;32m--> 453\u001b[0;31m                 \u001b[0mself\u001b[0m\u001b[0;34m.\u001b[0m\u001b[0m_condition\u001b[0m\u001b[0;34m.\u001b[0m\u001b[0mwait\u001b[0m\u001b[0;34m(\u001b[0m\u001b[0mtimeout\u001b[0m\u001b[0;34m)\u001b[0m\u001b[0;34m\u001b[0m\u001b[0;34m\u001b[0m\u001b[0m\n\u001b[0m\u001b[1;32m    454\u001b[0m \u001b[0;34m\u001b[0m\u001b[0m\n\u001b[1;32m    455\u001b[0m                 \u001b[0;32mif\u001b[0m \u001b[0mself\u001b[0m\u001b[0;34m.\u001b[0m\u001b[0m_state\u001b[0m \u001b[0;32min\u001b[0m \u001b[0;34m[\u001b[0m\u001b[0mCANCELLED\u001b[0m\u001b[0;34m,\u001b[0m \u001b[0mCANCELLED_AND_NOTIFIED\u001b[0m\u001b[0;34m]\u001b[0m\u001b[0;34m:\u001b[0m\u001b[0;34m\u001b[0m\u001b[0;34m\u001b[0m\u001b[0m\n",
      "\u001b[0;32m/usr/lib/python3.10/threading.py\u001b[0m in \u001b[0;36mwait\u001b[0;34m(self, timeout)\u001b[0m\n\u001b[1;32m    318\u001b[0m         \u001b[0;32mtry\u001b[0m\u001b[0;34m:\u001b[0m    \u001b[0;31m# restore state no matter what (e.g., KeyboardInterrupt)\u001b[0m\u001b[0;34m\u001b[0m\u001b[0;34m\u001b[0m\u001b[0m\n\u001b[1;32m    319\u001b[0m             \u001b[0;32mif\u001b[0m \u001b[0mtimeout\u001b[0m \u001b[0;32mis\u001b[0m \u001b[0;32mNone\u001b[0m\u001b[0;34m:\u001b[0m\u001b[0;34m\u001b[0m\u001b[0;34m\u001b[0m\u001b[0m\n\u001b[0;32m--> 320\u001b[0;31m                 \u001b[0mwaiter\u001b[0m\u001b[0;34m.\u001b[0m\u001b[0macquire\u001b[0m\u001b[0;34m(\u001b[0m\u001b[0;34m)\u001b[0m\u001b[0;34m\u001b[0m\u001b[0;34m\u001b[0m\u001b[0m\n\u001b[0m\u001b[1;32m    321\u001b[0m                 \u001b[0mgotit\u001b[0m \u001b[0;34m=\u001b[0m \u001b[0;32mTrue\u001b[0m\u001b[0;34m\u001b[0m\u001b[0;34m\u001b[0m\u001b[0m\n\u001b[1;32m    322\u001b[0m             \u001b[0;32melse\u001b[0m\u001b[0;34m:\u001b[0m\u001b[0;34m\u001b[0m\u001b[0;34m\u001b[0m\u001b[0m\n",
      "\u001b[0;31mKeyboardInterrupt\u001b[0m: "
     ]
    }
   ],
   "source": [
    "times = Parallel(n_jobs=7)(delayed(process)(m) for m in matrices)\n",
    "\n",
    "N = str(len(matrices))\n",
    "df = pd.DataFrame(times, columns=['N', 'DCT2 Time', 'My DCT2 Time'])\n",
    "df.to_csv('times' + N + '.csv', index=False)"
   ]
  },
  {
   "cell_type": "code",
   "execution_count": 13,
   "metadata": {},
   "outputs": [
    {
     "data": {
      "image/png": "[encoded data removed]",
      "text/plain": [
       "<Figure size 1080x720 with 1 Axes>"
      ]
     },
     "metadata": {},
     "output_type": "display_data"
    }
   ],
   "source": [
    "sns.set_theme(style=\"darkgrid\")\n",
    "df = pd.read_csv('times.csv')\n",
    "#df = pd.DataFrame(times, columns=['N', 'DCT2 Time', 'My DCT2 Time'])\n",
    "#fig, ax = plt.subplots(1, 2, figsize=(30, 10), sharey=True)\n",
    "fig = plt.figure(figsize=(15, 10))\n",
    "sns.lineplot(data=df, x=\"N\", y=\"DCT2 Time\", legend='brief', label='DCT2')\n",
    "ax = sns.lineplot(data=df, x=\"N\", y=\"My DCT2 Time\", legend='brief', label='My DCT2')\n",
    "ax.set_yscale('log')\n",
    "#ax2.set_yscale('log')\n"
   ]
  },
  {
   "cell_type": "code",
   "execution_count": null,
   "metadata": {},
   "outputs": [],
   "source": []
  }
 ],
 "metadata": {
  "kernelspec": {
   "display_name": "Python 3",
   "language": "python",
   "name": "python3"
  },
  "language_info": {
   "codemirror_mode": {
    "name": "ipython",
    "version": 3
   },
   "file_extension": ".py",
   "mimetype": "text/x-python",
   "name": "python",
   "nbconvert_exporter": "python",
   "pygments_lexer": "ipython3",
   "version": "3.10.7"
  },
  "orig_nbformat": 4
 },
 "nbformat": 4,
 "nbformat_minor": 2
}
